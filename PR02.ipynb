{
 "cells": [
  {
   "cell_type": "code",
   "execution_count": 4,
   "id": "53fa3269",
   "metadata": {},
   "outputs": [],
   "source": [
    "import mysql.connector\n",
    "from tkinter import *\n",
    "from tkinter import messagebox\n",
    "from tkinter import ttk\n",
    "from PIL import Image,ImageTk\n",
    "win=Tk()\n",
    "\n",
    "\n",
    "win.title('EMPLOYEE MANAGEMENT SYSTEM')\n",
    "win.minsize(width=800,height=600)\n",
    "win.configure(bg='skyblue')\n",
    "\n",
    "treev=ttk.Treeview(win,height=20)\n",
    "treev.place(x=800,y=100,width=550)\n",
    "\n",
    "treev[\"columns\"] = (\"1\", \"2\", \"3\",\"4\")\n",
    "treev['show'] = 'headings'\n",
    "\n",
    "treev.column(\"1\", width = 90, anchor ='c')\n",
    "treev.column(\"2\", width = 90, anchor ='se')\n",
    "treev.column(\"3\", width = 90, anchor ='se')\n",
    "treev.column(\"4\", width = 90, anchor ='se')\n",
    "\n",
    "treev.heading(\"1\", text =\"Name\")\n",
    "treev.heading(\"2\", text =\"Mobile No\")\n",
    "treev.heading(\"3\", text =\"Dept\")\n",
    "treev.heading(\"4\", text =\"Salary\")\n",
    "\n",
    "#clear button\n",
    "\n",
    "#clearbtn=Button(win,text='Clear',width=20,command=clear)\n",
    "#clearbtn.place(x=1080,y=5560)\n",
    "\n",
    "\n",
    "\n",
    "\n",
    "\n",
    "\n",
    "\n",
    "\n",
    "\n",
    "\n",
    "\n",
    "\n",
    "\n",
    "\n",
    "\n",
    "\n",
    "\n",
    "\n",
    "\n",
    "\n",
    "\n",
    "win.mainloop()"
   ]
  },
  {
   "cell_type": "code",
   "execution_count": null,
   "id": "efb2a938",
   "metadata": {},
   "outputs": [],
   "source": []
  }
 ],
 "metadata": {
  "kernelspec": {
   "display_name": "Python 3 (ipykernel)",
   "language": "python",
   "name": "python3"
  },
  "language_info": {
   "codemirror_mode": {
    "name": "ipython",
    "version": 3
   },
   "file_extension": ".py",
   "mimetype": "text/x-python",
   "name": "python",
   "nbconvert_exporter": "python",
   "pygments_lexer": "ipython3",
   "version": "3.9.7"
  }
 },
 "nbformat": 4,
 "nbformat_minor": 5
}
